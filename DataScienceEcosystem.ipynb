{
 "cells": [
  {
   "cell_type": "markdown",
   "id": "96eec8a9-6e47-415e-90d7-154a92a8bdf8",
   "metadata": {
    "tags": []
   },
   "source": [
    "# H1: Data Science Tools and Ecosystem"
   ]
  },
  {
   "cell_type": "code",
   "execution_count": null,
   "id": "e90213df-7ce8-446d-bc1e-4fc72f6601d7",
   "metadata": {
    "tags": []
   },
   "outputs": [],
   "source": [
    "# In this notebook, Data Science Tools and Ecosystem are summarized."
   ]
  },
  {
   "cell_type": "markdown",
   "id": "d500ed8d-b1a5-41f1-8e3c-c29174791c2e",
   "metadata": {},
   "source": [
    "**Objectives:**\n",
    "- Popular languages that data scientists use\n",
    "- Common libraries used by data scientists\n",
    "- Examples of arithmetic expressions in Python\n"
   ]
  },
  {
   "cell_type": "markdown",
   "id": "1fa1d778-ea75-4d6d-bf96-1fbb2fa95c90",
   "metadata": {},
   "source": [
    "## Author\n",
    "Jason C."
   ]
  },
  {
   "cell_type": "markdown",
   "id": "4f7f1ee5-696f-4727-a1cd-6497f9739fa0",
   "metadata": {
    "tags": []
   },
   "source": [
    "# Some of the popular languages that Data Scientists use are:\n",
    "1. R\n",
    "2. Python\n",
    "3. SQL"
   ]
  },
  {
   "cell_type": "markdown",
   "id": "b065ab3c-6c69-4207-83f4-545dcffb7000",
   "metadata": {},
   "source": [
    "# Some of the commonly used libraries used by Data Scientists include:\n",
    "1. Pandas\n",
    "2. NumPy\n",
    "3. PyTorch"
   ]
  },
  {
   "cell_type": "markdown",
   "id": "32401450-a64b-4afa-9873-65a5e2ae650c",
   "metadata": {},
   "source": [
    "| Data Science Tools |\n",
    "|--------------------|\n",
    "| RStudio |\n",
    "| Jupyter Lab |\n",
    "| Appache Zeppelin |\n"
   ]
  },
  {
   "cell_type": "markdown",
   "id": "9ceb9550-99fb-45f6-83a7-7ab9acf6aaf4",
   "metadata": {
    "tags": []
   },
   "source": [
    "### Below are a few examples of evaluating arithmetic expressions in Python"
   ]
  },
  {
   "cell_type": "code",
   "execution_count": 4,
   "id": "34b951c5-78c2-4c09-9098-31f4ad5c7b9d",
   "metadata": {
    "tags": []
   },
   "outputs": [
    {
     "data": {
      "text/plain": [
       "17"
      ]
     },
     "execution_count": 4,
     "metadata": {},
     "output_type": "execute_result"
    }
   ],
   "source": [
    "# This a simple arithmetic expression to mutiply then add integers\n",
    "(3*4)+5"
   ]
  },
  {
   "cell_type": "code",
   "execution_count": 1,
   "id": "520849f3-bff4-4ee8-982d-4d7a95e2862f",
   "metadata": {
    "jp-MarkdownHeadingCollapsed": true,
    "tags": []
   },
   "outputs": [
    {
     "data": {
      "text/plain": [
       "3.3333333333333335"
      ]
     },
     "execution_count": 1,
     "metadata": {},
     "output_type": "execute_result"
    }
   ],
   "source": [
    "# This will convert 200 minutes to hours by diving by 60\n",
    "200/60"
   ]
  },
  {
   "cell_type": "code",
   "execution_count": null,
   "id": "1ff73246-f8a8-4bcb-813c-b48999938e13",
   "metadata": {},
   "outputs": [],
   "source": []
  }
 ],
 "metadata": {
  "kernelspec": {
   "display_name": "Python",
   "language": "python",
   "name": "conda-env-python-py"
  },
  "language_info": {
   "codemirror_mode": {
    "name": "ipython",
    "version": 3
   },
   "file_extension": ".py",
   "mimetype": "text/x-python",
   "name": "python",
   "nbconvert_exporter": "python",
   "pygments_lexer": "ipython3",
   "version": "3.7.12"
  }
 },
 "nbformat": 4,
 "nbformat_minor": 5
}
